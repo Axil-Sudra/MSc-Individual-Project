{
 "cells": [
  {
   "cell_type": "markdown",
   "metadata": {},
   "source": [
    "# Piotroski's F-SCORE Calculation"
   ]
  },
  {
   "cell_type": "markdown",
   "metadata": {},
   "source": [
    "## Import Libraries"
   ]
  },
  {
   "cell_type": "code",
   "execution_count": 1,
   "metadata": {},
   "outputs": [],
   "source": [
    "# import necessary libraries\n",
    "import pandas as pd"
   ]
  },
  {
   "cell_type": "markdown",
   "metadata": {},
   "source": [
    "## Read Dataset to Pandas Dataframe"
   ]
  },
  {
   "cell_type": "code",
   "execution_count": 2,
   "metadata": {},
   "outputs": [
    {
     "data": {
      "text/html": [
       "<div>\n",
       "<style scoped>\n",
       "    .dataframe tbody tr th:only-of-type {\n",
       "        vertical-align: middle;\n",
       "    }\n",
       "\n",
       "    .dataframe tbody tr th {\n",
       "        vertical-align: top;\n",
       "    }\n",
       "\n",
       "    .dataframe thead th {\n",
       "        text-align: right;\n",
       "    }\n",
       "</style>\n",
       "<table border=\"1\" class=\"dataframe\">\n",
       "  <thead>\n",
       "    <tr style=\"text-align: right;\">\n",
       "      <th></th>\n",
       "      <th>CIK</th>\n",
       "      <th>Ticker_Symbol</th>\n",
       "      <th>Company_Name</th>\n",
       "      <th>Sector</th>\n",
       "      <th>Data_Date</th>\n",
       "      <th>Market_Capitalization</th>\n",
       "      <th>Total_Assets</th>\n",
       "      <th>Total_Liabilities</th>\n",
       "      <th>Net_Income_Before_Extra_Items</th>\n",
       "      <th>Cash_Flow_From_Operations</th>\n",
       "      <th>Total_Long_Term_Debt</th>\n",
       "      <th>Current_Assets</th>\n",
       "      <th>Current_Liabilities</th>\n",
       "      <th>Common_Shares_Outstanding</th>\n",
       "      <th>Total_Sales</th>\n",
       "      <th>Cost_Of_Goods_Sold</th>\n",
       "    </tr>\n",
       "  </thead>\n",
       "  <tbody>\n",
       "    <tr>\n",
       "      <td>0</td>\n",
       "      <td>1750</td>\n",
       "      <td>AIR</td>\n",
       "      <td>AAR CORP</td>\n",
       "      <td>Capital Goods</td>\n",
       "      <td>2009-05-31</td>\n",
       "      <td>571.5948</td>\n",
       "      <td>1377.511</td>\n",
       "      <td>720.616</td>\n",
       "      <td>80.600</td>\n",
       "      <td>64.451</td>\n",
       "      <td>392.984</td>\n",
       "      <td>851.312</td>\n",
       "      <td>254.418</td>\n",
       "      <td>38.884</td>\n",
       "      <td>1423.976</td>\n",
       "      <td>1110.677</td>\n",
       "    </tr>\n",
       "    <tr>\n",
       "      <td>1</td>\n",
       "      <td>1750</td>\n",
       "      <td>AIR</td>\n",
       "      <td>AAR CORP</td>\n",
       "      <td>Capital Goods</td>\n",
       "      <td>2010-05-31</td>\n",
       "      <td>777.8348</td>\n",
       "      <td>1501.042</td>\n",
       "      <td>754.692</td>\n",
       "      <td>44.628</td>\n",
       "      <td>153.156</td>\n",
       "      <td>336.191</td>\n",
       "      <td>863.429</td>\n",
       "      <td>325.550</td>\n",
       "      <td>39.484</td>\n",
       "      <td>1352.151</td>\n",
       "      <td>1065.902</td>\n",
       "    </tr>\n",
       "    <tr>\n",
       "      <td>2</td>\n",
       "      <td>1750</td>\n",
       "      <td>AIR</td>\n",
       "      <td>AAR CORP</td>\n",
       "      <td>Capital Goods</td>\n",
       "      <td>2011-05-31</td>\n",
       "      <td>1049.8206</td>\n",
       "      <td>1703.727</td>\n",
       "      <td>868.438</td>\n",
       "      <td>70.860</td>\n",
       "      <td>108.598</td>\n",
       "      <td>329.802</td>\n",
       "      <td>913.985</td>\n",
       "      <td>416.010</td>\n",
       "      <td>39.781</td>\n",
       "      <td>1775.782</td>\n",
       "      <td>1408.071</td>\n",
       "    </tr>\n",
       "    <tr>\n",
       "      <td>3</td>\n",
       "      <td>1750</td>\n",
       "      <td>AIR</td>\n",
       "      <td>AAR CORP</td>\n",
       "      <td>Capital Goods</td>\n",
       "      <td>2012-05-31</td>\n",
       "      <td>485.2897</td>\n",
       "      <td>2195.653</td>\n",
       "      <td>1329.631</td>\n",
       "      <td>65.178</td>\n",
       "      <td>94.217</td>\n",
       "      <td>669.489</td>\n",
       "      <td>1063.272</td>\n",
       "      <td>473.226</td>\n",
       "      <td>40.273</td>\n",
       "      <td>2074.498</td>\n",
       "      <td>1662.408</td>\n",
       "    </tr>\n",
       "    <tr>\n",
       "      <td>4</td>\n",
       "      <td>1750</td>\n",
       "      <td>AIR</td>\n",
       "      <td>AAR CORP</td>\n",
       "      <td>Capital Goods</td>\n",
       "      <td>2013-05-31</td>\n",
       "      <td>790.0029</td>\n",
       "      <td>2136.900</td>\n",
       "      <td>1217.400</td>\n",
       "      <td>53.000</td>\n",
       "      <td>162.900</td>\n",
       "      <td>622.200</td>\n",
       "      <td>1033.700</td>\n",
       "      <td>389.000</td>\n",
       "      <td>39.382</td>\n",
       "      <td>2167.100</td>\n",
       "      <td>1714.500</td>\n",
       "    </tr>\n",
       "  </tbody>\n",
       "</table>\n",
       "</div>"
      ],
      "text/plain": [
       "    CIK Ticker_Symbol Company_Name         Sector   Data_Date  \\\n",
       "0  1750           AIR     AAR CORP  Capital Goods  2009-05-31   \n",
       "1  1750           AIR     AAR CORP  Capital Goods  2010-05-31   \n",
       "2  1750           AIR     AAR CORP  Capital Goods  2011-05-31   \n",
       "3  1750           AIR     AAR CORP  Capital Goods  2012-05-31   \n",
       "4  1750           AIR     AAR CORP  Capital Goods  2013-05-31   \n",
       "\n",
       "   Market_Capitalization  Total_Assets  Total_Liabilities  \\\n",
       "0               571.5948      1377.511            720.616   \n",
       "1               777.8348      1501.042            754.692   \n",
       "2              1049.8206      1703.727            868.438   \n",
       "3               485.2897      2195.653           1329.631   \n",
       "4               790.0029      2136.900           1217.400   \n",
       "\n",
       "   Net_Income_Before_Extra_Items  Cash_Flow_From_Operations  \\\n",
       "0                         80.600                     64.451   \n",
       "1                         44.628                    153.156   \n",
       "2                         70.860                    108.598   \n",
       "3                         65.178                     94.217   \n",
       "4                         53.000                    162.900   \n",
       "\n",
       "   Total_Long_Term_Debt  Current_Assets  Current_Liabilities  \\\n",
       "0               392.984         851.312              254.418   \n",
       "1               336.191         863.429              325.550   \n",
       "2               329.802         913.985              416.010   \n",
       "3               669.489        1063.272              473.226   \n",
       "4               622.200        1033.700              389.000   \n",
       "\n",
       "   Common_Shares_Outstanding  Total_Sales  Cost_Of_Goods_Sold  \n",
       "0                     38.884     1423.976            1110.677  \n",
       "1                     39.484     1352.151            1065.902  \n",
       "2                     39.781     1775.782            1408.071  \n",
       "3                     40.273     2074.498            1662.408  \n",
       "4                     39.382     2167.100            1714.500  "
      ]
     },
     "metadata": {},
     "output_type": "display_data"
    }
   ],
   "source": [
    "# read fundamentals.csv file into a pandas dataframe\n",
    "funda_df = pd.read_csv('fundamentals.csv')\n",
    "# display funda_df\n",
    "display(funda_df.head())"
   ]
  },
  {
   "cell_type": "code",
   "execution_count": 3,
   "metadata": {},
   "outputs": [],
   "source": [
    "# note: the cik of each company is usuallly 10 digits in length\n",
    "# note: the leading 0's from some ciks have been removed\n",
    "# note: therefore, these leading 0's have to be added again to ensure all ciks are of length 10\n",
    "\n",
    "# add leading 0's to ciks that have a length less than 10\n",
    "funda_df['CIK'] = funda_df['CIK'].apply(lambda x: '{0:0>10}'.format(x))"
   ]
  },
  {
   "cell_type": "markdown",
   "metadata": {},
   "source": [
    "## Book-to-Market Ratio Quintiles"
   ]
  },
  {
   "cell_type": "code",
   "execution_count": 4,
   "metadata": {},
   "outputs": [
    {
     "name": "stdout",
     "output_type": "stream",
     "text": [
      "There are 395 rows containing negative b/m ratio values\n"
     ]
    }
   ],
   "source": [
    "# note: piotroski calculates the book-to-market (b/m) ratio for each company and classifies them into quintiles\n",
    "# note: therefore, the b/m ratio for each company in funda_df has to be calculated and classified\n",
    "# note: b/m ratio = common shareholders' equity / market capitalization\n",
    "# note: where common shareholders' equity = total assets - total liabilities\n",
    "\n",
    "# calculate the b/m ratio for each company and store in a new column in funda_df \n",
    "funda_df['BM_Ratio'] = (funda_df['Total_Assets'] - funda_df['Total_Liabilities']) / funda_df['Market_Capitalization'] \n",
    "\n",
    "# check for any negative b/m ratio values in funda_df\n",
    "# note: negative b/m ratio companies will be removed (if any exist)\n",
    "neg_bm_count = funda_df.loc[funda_df['BM_Ratio']<0, 'BM_Ratio'].count()\n",
    "print('There are %d rows containing negative b/m ratio values' % (neg_bm_count))"
   ]
  },
  {
   "cell_type": "code",
   "execution_count": 5,
   "metadata": {},
   "outputs": [],
   "source": [
    "# use b/m ratio to define b/m quintiles and store in a new column in funda_df (with negative b/m values)\n",
    "funda_df['BM_Quintile'] = pd.qcut(funda_df['BM_Ratio'], 5, \n",
    "                                  labels=['Very Low', 'Low', 'Medium', 'High', 'Very High'])"
   ]
  },
  {
   "cell_type": "code",
   "execution_count": 6,
   "metadata": {},
   "outputs": [
    {
     "name": "stdout",
     "output_type": "stream",
     "text": [
      "minimum b/m ratio for  Very Low :  -721.1686000122752\n",
      "\n",
      "\n",
      "minimum b/m ratio for  Low :  0.21997382462498738\n",
      "\n",
      "\n",
      "minimum b/m ratio for  Medium :  0.37272062726524147\n",
      "\n",
      "\n",
      "minimum b/m ratio for  High :  0.5345481992129281\n",
      "\n",
      "\n",
      "minimum b/m ratio for  Very High :  0.79977920876972\n",
      "\n",
      "\n"
     ]
    }
   ],
   "source": [
    "# find min b/m ratio of every b/m quintile\n",
    "bm_quintiles = ['Very Low', 'Low', 'Medium', 'High', 'Very High']\n",
    "for cat in bm_quintiles:\n",
    "    print('minimum b/m ratio for ', cat, ': ', funda_df.loc[funda_df['BM_Quintile']==cat, 'BM_Ratio'].min())\n",
    "    print('\\n')"
   ]
  },
  {
   "cell_type": "code",
   "execution_count": 7,
   "metadata": {},
   "outputs": [
    {
     "name": "stdout",
     "output_type": "stream",
     "text": [
      "maximum b/m ratio for  Very Low :  0.2198595448185914\n",
      "\n",
      "\n",
      "maximum b/m ratio for  Low :  0.3726678180165201\n",
      "\n",
      "\n",
      "maximum b/m ratio for  Medium :  0.534494436672182\n",
      "\n",
      "\n",
      "maximum b/m ratio for  High :  0.7997536900355039\n",
      "\n",
      "\n",
      "maximum b/m ratio for  Very High :  199.68087080789144\n",
      "\n",
      "\n"
     ]
    }
   ],
   "source": [
    "# find max b/m ratio of every b/m quintile\n",
    "bm_quintiles = ['Very Low', 'Low', 'Medium', 'High', 'Very High']\n",
    "for cat in bm_quintiles:\n",
    "    print('maximum b/m ratio for ', cat, ': ', funda_df.loc[funda_df['BM_Quintile']==cat, 'BM_Ratio'].max())\n",
    "    print('\\n')"
   ]
  },
  {
   "cell_type": "code",
   "execution_count": 8,
   "metadata": {},
   "outputs": [
    {
     "name": "stdout",
     "output_type": "stream",
     "text": [
      "mean b/m ratio for  Very Low :  -0.7403826296443942\n",
      "\n",
      "\n",
      "mean b/m ratio for  Low :  0.2967235276426672\n",
      "\n",
      "\n",
      "mean b/m ratio for  Medium :  0.44748367992662524\n",
      "\n",
      "\n",
      "mean b/m ratio for  High :  0.653656474032792\n",
      "\n",
      "\n",
      "mean b/m ratio for  Very High :  1.7486575214390578\n",
      "\n",
      "\n"
     ]
    }
   ],
   "source": [
    "# find mean b/m ratio of every b/m quintile\n",
    "bm_quintiles = ['Very Low', 'Low', 'Medium', 'High', 'Very High']\n",
    "for cat in bm_quintiles:\n",
    "    print('mean b/m ratio for ', cat, ': ', funda_df.loc[funda_df['BM_Quintile']==cat, 'BM_Ratio'].mean())\n",
    "    print('\\n')"
   ]
  },
  {
   "cell_type": "code",
   "execution_count": 9,
   "metadata": {},
   "outputs": [],
   "source": [
    "# remove companies with negative b/m ratio values in funda_df\n",
    "neg_bm_idx = funda_df[funda_df['BM_Ratio']<0].index\n",
    "funda_df = funda_df.drop(neg_bm_idx, axis=0).reset_index(drop=True)\n",
    "\n",
    "funda_df = funda_df.drop(columns=['BM_Quintile'])\n",
    "\n",
    "# use b/m ratio to define b/m quintiles and store in a new column in funda_df\n",
    "funda_df['BM_Quintile'] = pd.qcut(funda_df['BM_Ratio'], 5, \n",
    "                                  labels=['Very Low', 'Low', 'Medium', 'High', 'Very High'])"
   ]
  },
  {
   "cell_type": "code",
   "execution_count": 10,
   "metadata": {},
   "outputs": [
    {
     "name": "stdout",
     "output_type": "stream",
     "text": [
      "minimum b/m ratio for  Very Low :  0.00029416521734059657\n",
      "\n",
      "\n",
      "minimum b/m ratio for  Low :  0.24550994587877328\n",
      "\n",
      "\n",
      "minimum b/m ratio for  Medium :  0.38868837504461984\n",
      "\n",
      "\n",
      "minimum b/m ratio for  High :  0.5519084119552949\n",
      "\n",
      "\n",
      "minimum b/m ratio for  Very High :  0.8169716198913278\n",
      "\n",
      "\n"
     ]
    }
   ],
   "source": [
    "# find minimum b/m ratio of every b/m quintile\n",
    "bm_quintiles = ['Very Low', 'Low', 'Medium', 'High', 'Very High']\n",
    "for cat in bm_quintiles:\n",
    "    print('minimum b/m ratio for ', cat, ': ', funda_df.loc[funda_df['BM_Quintile']==cat, 'BM_Ratio'].min())\n",
    "    print('\\n')"
   ]
  },
  {
   "cell_type": "code",
   "execution_count": 11,
   "metadata": {},
   "outputs": [
    {
     "name": "stdout",
     "output_type": "stream",
     "text": [
      "minimum b/m ratio for  Very Low :  0.2454730790404054\n",
      "\n",
      "\n",
      "minimum b/m ratio for  Low :  0.3885203126627278\n",
      "\n",
      "\n",
      "minimum b/m ratio for  Medium :  0.5513956256415565\n",
      "\n",
      "\n",
      "minimum b/m ratio for  High :  0.8169240468003308\n",
      "\n",
      "\n",
      "minimum b/m ratio for  Very High :  199.68087080789144\n",
      "\n",
      "\n"
     ]
    }
   ],
   "source": [
    "# find max b/m ratio of every b/m quintile\n",
    "bm_quintiles = ['Very Low', 'Low', 'Medium', 'High', 'Very High']\n",
    "for cat in bm_quintiles:\n",
    "    print('minimum b/m ratio for ', cat, ': ', funda_df.loc[funda_df['BM_Quintile']==cat, 'BM_Ratio'].max())\n",
    "    print('\\n')"
   ]
  },
  {
   "cell_type": "code",
   "execution_count": 12,
   "metadata": {},
   "outputs": [
    {
     "name": "stdout",
     "output_type": "stream",
     "text": [
      "minimum b/m ratio for  Very Low :  0.14788678976041433\n",
      "\n",
      "\n",
      "minimum b/m ratio for  Low :  0.3173075588046172\n",
      "\n",
      "\n",
      "minimum b/m ratio for  Medium :  0.4634486726781248\n",
      "\n",
      "\n",
      "minimum b/m ratio for  High :  0.6689738421219509\n",
      "\n",
      "\n",
      "minimum b/m ratio for  Very High :  1.7868637967264795\n",
      "\n",
      "\n"
     ]
    }
   ],
   "source": [
    "# find mean b/m ratio of every b/m quintile\n",
    "bm_quintiles = ['Very Low', 'Low', 'Medium', 'High', 'Very High']\n",
    "for cat in bm_quintiles:\n",
    "    print('minimum b/m ratio for ', cat, ': ', funda_df.loc[funda_df['BM_Quintile']==cat, 'BM_Ratio'].mean())\n",
    "    print('\\n')"
   ]
  },
  {
   "cell_type": "markdown",
   "metadata": {},
   "source": [
    "## Company Size Terciles"
   ]
  },
  {
   "cell_type": "code",
   "execution_count": 13,
   "metadata": {},
   "outputs": [],
   "source": [
    "# note: piotroski classifies the size of a company into terciles\n",
    "# note: therefore, the companies contained in funda_df have to be classified in size terciles\n",
    "\n",
    "# use market capitalization to define comapny size terciles and store in a new column in funda_df\n",
    "funda_df['Size_Tercile'] = pd.qcut(funda_df['Market_Capitalization'], 3, \n",
    "                                   labels=['Small', 'Medium', 'Large'])"
   ]
  },
  {
   "cell_type": "code",
   "execution_count": 14,
   "metadata": {},
   "outputs": [
    {
     "name": "stdout",
     "output_type": "stream",
     "text": [
      "minimum market capitalization for  Small :  3.1909\n",
      "\n",
      "\n",
      "minimum market capitalization for  Medium :  1411.254\n",
      "\n",
      "\n",
      "minimum market capitalization for  Large :  5543.1552\n",
      "\n",
      "\n"
     ]
    }
   ],
   "source": [
    "# find min market capitalization of every company size tercile\n",
    "company_size_terciles = ['Small', 'Medium', 'Large']\n",
    "for cat in company_size_terciles:\n",
    "    print('minimum market capitalization for ', cat, ': ', funda_df.loc[funda_df['Size_Tercile']==cat, 'Market_Capitalization'].min())\n",
    "    print('\\n')"
   ]
  },
  {
   "cell_type": "code",
   "execution_count": 15,
   "metadata": {},
   "outputs": [
    {
     "name": "stdout",
     "output_type": "stream",
     "text": [
      "maximum market capitalization for  Small :  1409.5261\n",
      "\n",
      "\n",
      "maximum market capitalization for  Medium :  5542.9432\n",
      "\n",
      "\n",
      "maximum market capitalization for  Large :  438702.0\n",
      "\n",
      "\n"
     ]
    }
   ],
   "source": [
    "# find max market capitalization of every company size tercile\n",
    "company_size_terciles = ['Small', 'Medium', 'Large']\n",
    "for cat in company_size_terciles:\n",
    "    print('maximum market capitalization for ', cat, ': ', funda_df.loc[funda_df['Size_Tercile']==cat, 'Market_Capitalization'].max())\n",
    "    print('\\n')"
   ]
  },
  {
   "cell_type": "code",
   "execution_count": 16,
   "metadata": {},
   "outputs": [
    {
     "name": "stdout",
     "output_type": "stream",
     "text": [
      "mean market capitalization for  Small :  648.5828984558369\n",
      "\n",
      "\n",
      "mean market capitalization for  Medium :  2981.2649394688083\n",
      "\n",
      "\n",
      "mean market capitalization for  Large :  29840.454309326746\n",
      "\n",
      "\n"
     ]
    }
   ],
   "source": [
    "# find mean market capitalization of every company size tercile\n",
    "company_size_terciles = ['Small', 'Medium', 'Large']\n",
    "for cat in company_size_terciles:\n",
    "    print('mean market capitalization for ', cat, ': ', funda_df.loc[funda_df['Size_Tercile']==cat, 'Market_Capitalization'].mean())\n",
    "    print('\\n')"
   ]
  },
  {
   "cell_type": "markdown",
   "metadata": {},
   "source": [
    "## Remove Companies with Less Than 3 Years of Data"
   ]
  },
  {
   "cell_type": "code",
   "execution_count": 17,
   "metadata": {},
   "outputs": [
    {
     "name": "stdout",
     "output_type": "stream",
     "text": [
      "funda_df row count: 9513\n"
     ]
    }
   ],
   "source": [
    "# note: in order to calculate piotroski's f-score there has to be more than 2 years of data for each company\n",
    "\n",
    "# filter ticker symbols with more than 2 years of data\n",
    "funda_df = funda_df.groupby('Ticker_Symbol').filter(lambda x: len(x)>2).reset_index(drop=True)\n",
    "# row count of funda_df after filtering\n",
    "print('funda_df row count:', funda_df.shape[0])"
   ]
  },
  {
   "cell_type": "markdown",
   "metadata": {},
   "source": [
    "## Additional Required Variables"
   ]
  },
  {
   "cell_type": "code",
   "execution_count": 18,
   "metadata": {},
   "outputs": [],
   "source": [
    "# note: additional variables from previous years are required to be stored in one instance (row)\n",
    "# note: e.g. a new column for total assets from the previous year grouped by ticker is needed \n",
    "\n",
    "# obtain total assets for the previous year for each ticker and store in a new column in funda_df\n",
    "total_assets_py1 = funda_df.groupby('Ticker_Symbol', as_index=False).apply(lambda x:\n",
    "                                                                           x['Total_Assets'].shift(1))\n",
    "funda_df['Total_Assets_PY1'] = total_assets_py1.reset_index(level=0, drop=True)\n",
    "\n",
    "# obtain total assets for pre-previous year for each ticker and store in a new column in funda_df\n",
    "total_assets_py2 = funda_df.groupby('Ticker_Symbol', as_index=False).apply(lambda x:\n",
    "                                                                           x['Total_Assets'].shift(2))\n",
    "funda_df['Total_Assets_PY2'] = total_assets_py2.reset_index(level=0, drop=True)\n",
    "\n",
    "# obtain total long term debt for previous year for each ticker and store in a new column in funda_df\n",
    "total_lt_debt_py1 = funda_df.groupby('Ticker_Symbol', as_index=False).apply(lambda x:\n",
    "                                                                            x['Total_Long_Term_Debt'].shift(1))\n",
    "funda_df['Total_Long_Term_Debt_PY1'] = total_lt_debt_py1.reset_index(level=0, drop=True)\n",
    "\n",
    "# obtain current assets for previous year for each ticker and store in a new column in funda_df\n",
    "current_assets_py1 = funda_df.groupby('Ticker_Symbol', as_index=False).apply(lambda x:\n",
    "                                                                             x['Current_Assets'].shift(1))\n",
    "funda_df['Current_Assets_PY1'] = current_assets_py1.reset_index(level=0, drop=True)\n",
    "\n",
    "# obtain current liabilities for previous year for each ticker and store in a new column in funda_df\n",
    "current_liabilities_py1 = funda_df.groupby('Ticker_Symbol', as_index=False).apply(lambda x:\n",
    "                                                                                  x['Current_Liabilities'].shift(1))\n",
    "funda_df['Current_Liabilities_PY1'] = current_liabilities_py1.reset_index(level=0, drop=True)\n",
    "\n",
    "# obtain common shares outstanding for previous year for each ticker and store in a new column in funda_df\n",
    "csho_py1 = funda_df.groupby('Ticker_Symbol', as_index=False).apply(lambda x:\n",
    "                                                                   x['Common_Shares_Outstanding'].shift(1))\n",
    "funda_df['Common_Shares_Outstanding_PY1'] = csho_py1.reset_index(level=0, drop=True)\n",
    "\n",
    "# obtain total sales for previous year for each ticker and store in a new column in funda_df\n",
    "total_sales_py1 = funda_df.groupby('Ticker_Symbol', as_index=False).apply(lambda x:\n",
    "                                                                          x['Total_Sales'].shift(1))\n",
    "funda_df['Total_Sales_PY1'] = total_sales_py1.reset_index(level=0, drop=True)\n",
    "\n",
    "# obtain cost of goods sold for previous year for each ticker and store in a new column in funda_df\n",
    "cogs_py1 = funda_df.groupby('Ticker_Symbol', as_index=False).apply(lambda x:\n",
    "                                                                   x['Cost_Of_Goods_Sold'].shift(1))\n",
    "funda_df['Cost_Of_Goods_Sold_PY1'] = cogs_py1.reset_index(level=0, drop=True)"
   ]
  },
  {
   "cell_type": "markdown",
   "metadata": {},
   "source": [
    "## Calculation of Piotroski's Nine Fundamental Measures & Scoring Functions"
   ]
  },
  {
   "cell_type": "code",
   "execution_count": 19,
   "metadata": {},
   "outputs": [],
   "source": [
    "# note: Piotroski's F-SCORE is based on the following nine measures....\n",
    "# --------------------profitability--------------------\n",
    "# - return on assets (ROA)\n",
    "# - cash flow from operations (CFO)\n",
    "# - change in return on assets (ΔROA)\n",
    "# - accruals (ACCRUAL)\n",
    "# --------leverage, liquidity & source of funds--------\n",
    "# - change in leverage (ΔLEVER)\n",
    "# - change in liquidity (ΔLIQUID)\n",
    "# - issuance of new equity (EQ_OFFER)\n",
    "# -----------------operating efficiency----------------\n",
    "# - change in margin (ΔMARGIN)\n",
    "# - change in turnover (ΔTURN)\n",
    "# note: each measure above is scored using a scoring function\n",
    "# note: the scoring function for each fundamental measure is discussed below\n",
    "# note: t denotes the time period; in this case, t represents years\n",
    "\n",
    "# calculate return on assets and store in a new column in funda_df\n",
    "# note: (ROA)_t = (net income before extraordinary items)_t / (total assets)_t-1\n",
    "roa = funda_df.groupby('Ticker_Symbol', as_index=False).apply(lambda x:\n",
    "                                                              x['Net_Income_Before_Extra_Items'] /\n",
    "                                                              x['Total_Assets_PY1'])\n",
    "funda_df['ROA'] = roa.reset_index(level=0, drop=True)\n",
    "\n",
    "# calculate cash flow from operations and store in a new column in funda_df\n",
    "# note: (CFO)_t = (cash flow from operations)_t / (total assets)_t-1\n",
    "cfo = funda_df.groupby('Ticker_Symbol', as_index=False).apply(lambda x:\n",
    "                                                              x['Cash_Flow_From_Operations'] /\n",
    "                                                              x['Total_Assets_PY1'])\n",
    "funda_df['CFO'] = cfo.reset_index(level=0, drop=True)\n",
    "\n",
    "# calculate change in return on assets and store in a new column in funda_df\n",
    "# note: (ΔROA)_t = (ROA)_t - (ROA)_t-1\n",
    "croa = funda_df.groupby('Ticker_Symbol', as_index=False).apply(lambda x:\n",
    "                                                               x['ROA'] - x['ROA'].shift(1))\n",
    "funda_df['CROA'] = croa.reset_index(level=0, drop=True)\n",
    "\n",
    "# calculate accruals and store in a new column in funda_df\n",
    "# note: (ACCRUAL)_t = (ROA)_t - (CFO)_t\n",
    "accrual = funda_df.groupby('Ticker_Symbol', as_index=False).apply(lambda x:\n",
    "                                                                  x['ROA'] - x['CFO'])\n",
    "funda_df['ACCRUAL'] = accrual.reset_index(level=0, drop=True)\n",
    "\n",
    "# calculate change in leverage and store in a new column in funda_df\n",
    "# note: (ΔLEVER)_t = (long term debt)_t / 0.5 * ((total assets)_t + (total assets)_t-1) -\n",
    "#                    (long term debt)_t-1 / 0.5 * ((total assets)_t-1 + (total assets)_t-2)\n",
    "clever = funda_df.groupby('Ticker_Symbol', as_index=False).apply(lambda x:\n",
    "                                                                 (x['Total_Long_Term_Debt'] /\n",
    "                                                                  (0.5 * \n",
    "                                                                   (x['Total_Assets'] + \n",
    "                                                                    x['Total_Assets_PY1'])))\n",
    "                                                                 -\n",
    "                                                                 (x['Total_Long_Term_Debt_PY1'] /\n",
    "                                                                  (0.5 * \n",
    "                                                                   (x['Total_Assets_PY1'] + \n",
    "                                                                    x['Total_Assets_PY2']))))\n",
    "funda_df['CLEVER'] = clever.reset_index(level=0, drop=True)\n",
    "\n",
    "# calculate change in liquidity and store in a new column in funda_df\n",
    "# note: (ΔLIQUID)_t = (current assets)_t / (current liabilities)_t -\n",
    "#                     (current assets)_t-1 / (current liabilities)_t-1\n",
    "cliquid = funda_df.groupby('Ticker_Symbol', as_index=False).apply(lambda x:\n",
    "                                                                  (x['Current_Assets'] / \n",
    "                                                                   x['Current_Liabilities']) \n",
    "                                                                  -\n",
    "                                                                  (x['Current_Assets_PY1'] / \n",
    "                                                                   x['Current_Liabilities_PY1']))\n",
    "funda_df['CLIQUID'] = cliquid.reset_index(level=0, drop=True)\n",
    "\n",
    "# calculate issuance of new equity and store in a new column in funda_df\n",
    "# note: (EQ_OFFER)_t = (common shares outstanding)_t - (common shares outstanding)_t-1\n",
    "eq_offer = funda_df.groupby('Ticker_Symbol', as_index=False).apply(lambda x:\n",
    "                                                                   x['Common_Shares_Outstanding']\n",
    "                                                                   - \n",
    "                                                                   x['Common_Shares_Outstanding_PY1'])\n",
    "funda_df['EQ_OFFER'] = eq_offer.reset_index(level=0, drop=True)\n",
    "\n",
    "# calculate change in margin and store in a new column in funda_df\n",
    "# note: (ΔMARGIN)_t = ((sales)_t - (cogs)_t) / (sales)_t -\n",
    "#                     ((sales)_t-1 - (cogs)_t-1) / (sales)_t-1\n",
    "cmargin = funda_df.groupby('Ticker_Symbol', as_index=False).apply(lambda x:\n",
    "                                                                  ((x['Total_Sales'] - \n",
    "                                                                    x['Cost_Of_Goods_Sold']) /\n",
    "                                                                   x['Total_Sales'])\n",
    "                                                                  -\n",
    "                                                                  ((x['Total_Sales_PY1'] -\n",
    "                                                                    x['Cost_Of_Goods_Sold_PY1']) /\n",
    "                                                                   x['Total_Sales_PY1']))\n",
    "funda_df['CMARGIN'] = cmargin.reset_index(level=0, drop=True)\n",
    "\n",
    "# calculate change in turnover and store in a new column in funda_df\n",
    "# note: (ΔTURN)_t = (sales)_t / (total assets)_t-1 - (sales)_t-1 / (total assets)_t-2\n",
    "cturn = funda_df.groupby('Ticker_Symbol', as_index=False).apply(lambda x:\n",
    "                                                                (x['Total_Sales'] / x['Total_Assets_PY1'])\n",
    "                                                                -\n",
    "                                                                (x['Total_Sales_PY1'] / x['Total_Assets_PY2']))\n",
    "funda_df['CTURN'] = cturn.reset_index(level=0, drop=True)"
   ]
  },
  {
   "cell_type": "code",
   "execution_count": 20,
   "metadata": {},
   "outputs": [],
   "source": [
    "# note: the first 2 rows of a company's data in funda_df will contain missing values\n",
    "# note: this is due to some of fundamental measures above containing variables that date back 2 years\n",
    "# note: an example of this is change in turnover; it contains total assets that have to date back 2 years\n",
    "# note: these rows with missing values will have to be removed\n",
    "\n",
    "# remove any rows in funda_df that contain missing values and reset index\n",
    "funda_df = funda_df.dropna().reset_index(drop=True)"
   ]
  },
  {
   "cell_type": "code",
   "execution_count": 21,
   "metadata": {},
   "outputs": [],
   "source": [
    "# define scoring functions for each fundamental measure\n",
    "\n",
    "# create new columns to store results from scoring functions in funda_df\n",
    "funda_df['F_ROA'] = 0\n",
    "funda_df['F_CFO'] = 0\n",
    "funda_df['F_CROA'] = 0\n",
    "funda_df['F_ACCRUAL'] = 0\n",
    "funda_df['F_CLEVER'] = 0\n",
    "funda_df['F_CLIQUID'] = 0\n",
    "funda_df['F_EQ_OFFER'] = 0\n",
    "funda_df['F_CMARGIN'] = 0\n",
    "funda_df['F_CTURN'] = 0\n",
    "# create a new column to store composite F-SCORE in funda_df\n",
    "funda_df['F_SCORE'] = 0\n",
    "\n",
    "# loop through each row of funda_df\n",
    "for idx, row in funda_df.iterrows():\n",
    "    \n",
    "    # define ROA scoring function and store in F_ROA column in funda_df\n",
    "    # note: F_ROA is defined as the ROA scoring function\n",
    "    # note: if (ROA)_t > 0 then (F_ROA)_t = 1\n",
    "    #       0 otherwise\n",
    "    if row['ROA'] > 0:\n",
    "        funda_df.at[idx, 'F_ROA'] = 1\n",
    "    else:\n",
    "        funda_df.at[idx, 'F_ROA'] = 0\n",
    "        \n",
    "    # define CFO scoring function and store in F_CFO column in funda_df\n",
    "    # note: F_CFO is defined as the scoring function\n",
    "    # note: if (CFO)_t > 0 then (F_CFO)_t = 1\n",
    "    #       0 otherwise\n",
    "    if row['CFO'] > 0:\n",
    "        funda_df.at[idx, 'F_CFO'] = 1\n",
    "    else:\n",
    "        funda_df.at[idx, 'F_CFO'] = 0\n",
    "    \n",
    "    # define CROA scoring function and store in F_CROA column in funda_df\n",
    "    # note: F_CROA is defined as the scoring function\n",
    "    # note: if (CROA)_t > 0 then (F_CROA)_t = 1\n",
    "    #       0 otherwise\n",
    "    if row['CROA'] > 0:\n",
    "        funda_df.at[idx, 'F_CROA'] = 1\n",
    "    else:\n",
    "        funda_df.at[idx, 'F_CROA'] = 0\n",
    "    \n",
    "    # define ACCRUAL scoring function and store in F_ACCRUAL column in funda_df\n",
    "    # note: F_ACCRUAL is defined as the scoring function\n",
    "    # note: if (CFO)_t > (ROA)_t then (F_ACCRUAL)_t = 1\n",
    "    #       0 otherwise\n",
    "    if row['CFO'] > row['ROA']:\n",
    "        funda_df.at[idx, 'F_ACCRUAL'] = 1\n",
    "    else:\n",
    "        funda_df.at[idx, 'F_ACCRUAL'] = 0\n",
    "    \n",
    "    # define CLEVER scoring function and store in F_CLEVER column in funda_df\n",
    "    # note: F_CLEVER is defined as the scoring function\n",
    "    # note: if (CLEVER)_t < 0 then (F_CLEVER)_t = 1\n",
    "    #       0 otherwise\n",
    "    if row['CLEVER'] < 0:\n",
    "        funda_df.at[idx, 'F_CLEVER'] = 1\n",
    "    else:\n",
    "        funda_df.at[idx, 'F_CLEVER'] = 0\n",
    "    \n",
    "    # define CLIQUID scoring function and store in F_CLIQUID column in funda_df\n",
    "    # note: F_CLIQUID is defined as the scoring function\n",
    "    # note: if (CLIQUID)_t > 0 then (F_CLIQUID)_t = 1\n",
    "    #       0 otherwise\n",
    "    if row['CLIQUID'] > 0:\n",
    "        funda_df.at[idx, 'F_CLIQUID'] = 1\n",
    "    else:\n",
    "        funda_df.at[idx, 'F_CLIQUID'] = 0\n",
    "    \n",
    "    # define EQ_OFFER scoring function and store in F_EQ_OFFER column in funda_df\n",
    "    # note: F_EQ_OFFER is defined as the scoring function\n",
    "    # note: if (EQ_OFFER)_t <= 0 then (F_EQ_OFFER)_t = 1\n",
    "    #       0 otherwise\n",
    "    if row['EQ_OFFER'] <= 0:\n",
    "        funda_df.at[idx, 'F_EQ_OFFER'] = 1\n",
    "    else:\n",
    "        funda_df.at[idx, 'F_EQ_OFFER'] = 0\n",
    "    \n",
    "    # define CMARGIN scoring function and store in F_CMARGIN column in funda_df\n",
    "    # note: F_CMARGIN is defined as the scoring function\n",
    "    # note: if (CMARGIN)_t > 0 then (F_CMARGIN)_t = 1\n",
    "    #       0 otherwise\n",
    "    if row['CMARGIN'] > 0:\n",
    "        funda_df.at[idx, 'F_CMARGIN'] = 1\n",
    "    else:\n",
    "        funda_df.at[idx, 'F_CMARGIN'] = 0\n",
    "    \n",
    "    # define CTURN scoring function and store in F_CTURN column in funda_df\n",
    "    # note: F_CTURN is defined as the scoring function\n",
    "    # note: if (CTURN)_t > 0 then (F_CTURN) = 1\n",
    "    #       0 otherwise\n",
    "    if row['CTURN'] > 0:\n",
    "        funda_df.at[idx, 'F_CTURN'] = 1\n",
    "    else:\n",
    "        funda_df.at[idx, 'F_CTURN'] = 0\n",
    "\n",
    "# calculate composite F-SCORE\n",
    "# note: F-SCORE = F_ROA + F_CFO + F_CROA + F_ACCRUAL + F_CLEVER + F_CLIQUID + F_EQ_OFFER + F_CMARGIN + F_CTURN\n",
    "funda_df['F_SCORE'] = (funda_df['F_ROA'] + funda_df['F_CFO'] + funda_df['F_CROA'] + \n",
    "                       funda_df['F_ACCRUAL'] + funda_df['F_CLEVER'] + funda_df['F_CLIQUID'] + \n",
    "                       funda_df['F_EQ_OFFER'] + funda_df['F_CMARGIN'] + funda_df['F_CTURN'])"
   ]
  },
  {
   "cell_type": "code",
   "execution_count": 22,
   "metadata": {},
   "outputs": [],
   "source": [
    "# rearrange column order of funda_df\n",
    "funda_cols = ['CIK', 'Ticker_Symbol', 'Company_Name', 'Sector', 'Data_Date',\n",
    "              'Market_Capitalization', 'Total_Assets', 'Total_Assets_PY1',\n",
    "              'Total_Assets_PY2', 'Total_Liabilities',\n",
    "              'Net_Income_Before_Extra_Items', 'Cash_Flow_From_Operations', \n",
    "              'Total_Long_Term_Debt', 'Total_Long_Term_Debt_PY1', 'Current_Assets', \n",
    "              'Current_Assets_PY1', 'Current_Liabilities', 'Current_Liabilities_PY1',\n",
    "              'Common_Shares_Outstanding', 'Common_Shares_Outstanding_PY1',\n",
    "              'Total_Sales', 'Total_Sales_PY1', 'Cost_Of_Goods_Sold', \n",
    "              'Cost_Of_Goods_Sold_PY1', 'Size_Tercile', 'BM_Ratio', 'BM_Quintile', \n",
    "              'ROA', 'F_ROA', 'CFO', 'F_CFO', 'CROA', 'F_CROA', \n",
    "              'ACCRUAL', 'F_ACCRUAL', 'CLEVER', 'F_CLEVER', 'CLIQUID', 'F_CLIQUID', \n",
    "              'EQ_OFFER', 'F_EQ_OFFER', 'CMARGIN', 'F_CMARGIN', 'CTURN', 'F_CTURN', 'F_SCORE']\n",
    "funda_df = funda_df[funda_cols]"
   ]
  },
  {
   "cell_type": "markdown",
   "metadata": {},
   "source": [
    "## Save Data to CSV File"
   ]
  },
  {
   "cell_type": "code",
   "execution_count": 23,
   "metadata": {},
   "outputs": [],
   "source": [
    "# save funda_df to csv file\n",
    "funda_df.to_csv('fundamentals_fscore.csv', index=False)"
   ]
  }
 ],
 "metadata": {
  "kernelspec": {
   "display_name": "Python 3",
   "language": "python",
   "name": "python3"
  },
  "language_info": {
   "codemirror_mode": {
    "name": "ipython",
    "version": 3
   },
   "file_extension": ".py",
   "mimetype": "text/x-python",
   "name": "python",
   "nbconvert_exporter": "python",
   "pygments_lexer": "ipython3",
   "version": "3.7.4"
  }
 },
 "nbformat": 4,
 "nbformat_minor": 4
}
