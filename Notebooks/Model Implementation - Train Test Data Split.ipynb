{
 "cells": [
  {
   "cell_type": "markdown",
   "metadata": {},
   "source": [
    "# Model Implementation - Train/Test Data Split"
   ]
  },
  {
   "cell_type": "markdown",
   "metadata": {},
   "source": [
    "## Import Libraries"
   ]
  },
  {
   "cell_type": "code",
   "execution_count": 1,
   "metadata": {},
   "outputs": [],
   "source": [
    "# import necessary libraries\n",
    "import pandas as pd\n",
    "from sklearn.utils import shuffle\n",
    "from sklearn.model_selection import train_test_split\n",
    "import tensorflow as tf\n",
    "from tensorflow.keras.utils import to_categorical"
   ]
  },
  {
   "cell_type": "markdown",
   "metadata": {},
   "source": [
    "## Random Seed"
   ]
  },
  {
   "cell_type": "code",
   "execution_count": 2,
   "metadata": {},
   "outputs": [],
   "source": [
    "# note: set the random seed for reproducibility of results\n",
    "\n",
    "# define variable to store seed value\n",
    "seed = 2"
   ]
  },
  {
   "cell_type": "markdown",
   "metadata": {},
   "source": [
    "## Read Dataset to Pandas Dataframe"
   ]
  },
  {
   "cell_type": "code",
   "execution_count": 3,
   "metadata": {},
   "outputs": [
    {
     "data": {
      "text/html": [
       "<div>\n",
       "<style scoped>\n",
       "    .dataframe tbody tr th:only-of-type {\n",
       "        vertical-align: middle;\n",
       "    }\n",
       "\n",
       "    .dataframe tbody tr th {\n",
       "        vertical-align: top;\n",
       "    }\n",
       "\n",
       "    .dataframe thead th {\n",
       "        text-align: right;\n",
       "    }\n",
       "</style>\n",
       "<table border=\"1\" class=\"dataframe\">\n",
       "  <thead>\n",
       "    <tr style=\"text-align: right;\">\n",
       "      <th></th>\n",
       "      <th>ROA</th>\n",
       "      <th>F_ROA</th>\n",
       "      <th>CFO</th>\n",
       "      <th>F_CFO</th>\n",
       "      <th>CROA</th>\n",
       "      <th>F_CROA</th>\n",
       "      <th>ACCRUAL</th>\n",
       "      <th>F_ACCRUAL</th>\n",
       "      <th>CLEVER</th>\n",
       "      <th>F_CLEVER</th>\n",
       "      <th>CLIQUID</th>\n",
       "      <th>F_CLIQUID</th>\n",
       "      <th>EQ_OFFER</th>\n",
       "      <th>F_EQ_OFFER</th>\n",
       "      <th>CMARGIN</th>\n",
       "      <th>F_CMARGIN</th>\n",
       "      <th>CTURN</th>\n",
       "      <th>F_CTURN</th>\n",
       "      <th>F_SCORE</th>\n",
       "    </tr>\n",
       "  </thead>\n",
       "  <tbody>\n",
       "    <tr>\n",
       "      <td>0</td>\n",
       "      <td>0.038256</td>\n",
       "      <td>1</td>\n",
       "      <td>0.055301</td>\n",
       "      <td>1</td>\n",
       "      <td>-0.008951</td>\n",
       "      <td>0</td>\n",
       "      <td>-0.017044</td>\n",
       "      <td>1</td>\n",
       "      <td>0.137563</td>\n",
       "      <td>0</td>\n",
       "      <td>0.049832</td>\n",
       "      <td>1</td>\n",
       "      <td>0.492</td>\n",
       "      <td>0</td>\n",
       "      <td>-0.008424</td>\n",
       "      <td>0</td>\n",
       "      <td>0.034591</td>\n",
       "      <td>1</td>\n",
       "      <td>5</td>\n",
       "    </tr>\n",
       "    <tr>\n",
       "      <td>1</td>\n",
       "      <td>0.024139</td>\n",
       "      <td>1</td>\n",
       "      <td>0.074192</td>\n",
       "      <td>1</td>\n",
       "      <td>-0.014118</td>\n",
       "      <td>0</td>\n",
       "      <td>-0.050053</td>\n",
       "      <td>1</td>\n",
       "      <td>-0.056161</td>\n",
       "      <td>1</td>\n",
       "      <td>0.410468</td>\n",
       "      <td>1</td>\n",
       "      <td>-0.891</td>\n",
       "      <td>1</td>\n",
       "      <td>0.010205</td>\n",
       "      <td>1</td>\n",
       "      <td>-0.230628</td>\n",
       "      <td>0</td>\n",
       "      <td>7</td>\n",
       "    </tr>\n",
       "    <tr>\n",
       "      <td>2</td>\n",
       "      <td>0.033413</td>\n",
       "      <td>1</td>\n",
       "      <td>0.065422</td>\n",
       "      <td>1</td>\n",
       "      <td>0.009274</td>\n",
       "      <td>1</td>\n",
       "      <td>-0.032009</td>\n",
       "      <td>1</td>\n",
       "      <td>-0.026959</td>\n",
       "      <td>1</td>\n",
       "      <td>0.120341</td>\n",
       "      <td>1</td>\n",
       "      <td>0.178</td>\n",
       "      <td>0</td>\n",
       "      <td>0.014049</td>\n",
       "      <td>1</td>\n",
       "      <td>-0.034682</td>\n",
       "      <td>0</td>\n",
       "      <td>7</td>\n",
       "    </tr>\n",
       "    <tr>\n",
       "      <td>3</td>\n",
       "      <td>0.026403</td>\n",
       "      <td>1</td>\n",
       "      <td>0.021188</td>\n",
       "      <td>1</td>\n",
       "      <td>0.051317</td>\n",
       "      <td>1</td>\n",
       "      <td>0.005215</td>\n",
       "      <td>0</td>\n",
       "      <td>0.046283</td>\n",
       "      <td>0</td>\n",
       "      <td>0.338023</td>\n",
       "      <td>1</td>\n",
       "      <td>-0.908</td>\n",
       "      <td>1</td>\n",
       "      <td>0.027259</td>\n",
       "      <td>1</td>\n",
       "      <td>0.372579</td>\n",
       "      <td>1</td>\n",
       "      <td>7</td>\n",
       "    </tr>\n",
       "    <tr>\n",
       "      <td>4</td>\n",
       "      <td>0.054896</td>\n",
       "      <td>1</td>\n",
       "      <td>0.044205</td>\n",
       "      <td>1</td>\n",
       "      <td>0.006296</td>\n",
       "      <td>1</td>\n",
       "      <td>0.010691</td>\n",
       "      <td>0</td>\n",
       "      <td>-0.023845</td>\n",
       "      <td>1</td>\n",
       "      <td>-0.164047</td>\n",
       "      <td>0</td>\n",
       "      <td>0.072</td>\n",
       "      <td>0</td>\n",
       "      <td>-0.010221</td>\n",
       "      <td>0</td>\n",
       "      <td>0.183351</td>\n",
       "      <td>1</td>\n",
       "      <td>5</td>\n",
       "    </tr>\n",
       "  </tbody>\n",
       "</table>\n",
       "</div>"
      ],
      "text/plain": [
       "        ROA  F_ROA       CFO  F_CFO      CROA  F_CROA   ACCRUAL  F_ACCRUAL  \\\n",
       "0  0.038256      1  0.055301      1 -0.008951       0 -0.017044          1   \n",
       "1  0.024139      1  0.074192      1 -0.014118       0 -0.050053          1   \n",
       "2  0.033413      1  0.065422      1  0.009274       1 -0.032009          1   \n",
       "3  0.026403      1  0.021188      1  0.051317       1  0.005215          0   \n",
       "4  0.054896      1  0.044205      1  0.006296       1  0.010691          0   \n",
       "\n",
       "     CLEVER  F_CLEVER   CLIQUID  F_CLIQUID  EQ_OFFER  F_EQ_OFFER   CMARGIN  \\\n",
       "0  0.137563         0  0.049832          1     0.492           0 -0.008424   \n",
       "1 -0.056161         1  0.410468          1    -0.891           1  0.010205   \n",
       "2 -0.026959         1  0.120341          1     0.178           0  0.014049   \n",
       "3  0.046283         0  0.338023          1    -0.908           1  0.027259   \n",
       "4 -0.023845         1 -0.164047          0     0.072           0 -0.010221   \n",
       "\n",
       "   F_CMARGIN     CTURN  F_CTURN  F_SCORE  \n",
       "0          0  0.034591        1        5  \n",
       "1          1 -0.230628        0        7  \n",
       "2          1 -0.034682        0        7  \n",
       "3          1  0.372579        1        7  \n",
       "4          0  0.183351        1        5  "
      ]
     },
     "metadata": {},
     "output_type": "display_data"
    },
    {
     "name": "stdout",
     "output_type": "stream",
     "text": [
      "model_df row count: 3550\n"
     ]
    }
   ],
   "source": [
    "# read modelinputdata.csv file into a pandas dataframe\n",
    "model_df = pd.read_csv('modelinputdata.csv')\n",
    "# display model_df\n",
    "display(model_df.head())\n",
    "# row count of model_df\n",
    "print('model_df row count:', model_df.shape[0])"
   ]
  },
  {
   "cell_type": "markdown",
   "metadata": {},
   "source": [
    "## Shuffle Dataset"
   ]
  },
  {
   "cell_type": "code",
   "execution_count": 4,
   "metadata": {},
   "outputs": [],
   "source": [
    "# shuffle observations in model_df and reset index\n",
    "model_df = shuffle(model_df, random_state=seed).reset_index(drop=True)"
   ]
  },
  {
   "cell_type": "markdown",
   "metadata": {},
   "source": [
    "## One Hot Encoding of F-SCORE"
   ]
  },
  {
   "cell_type": "code",
   "execution_count": 5,
   "metadata": {},
   "outputs": [],
   "source": [
    "# note: the F-SCORE variable has to be one hot encoded in order to calculate the categorical cross entropy loss \n",
    "\n",
    "# one hot encode F-SCOREs\n",
    "F_SCORE_enc = to_categorical(model_df['F_SCORE'])\n",
    "F_SCORE_enc_df = pd.DataFrame(F_SCORE_enc, columns=['0', '1', '2', '3', '4', '5', '6',\n",
    "                                                 '7', '8', '9']).astype(int)\n",
    "model_df = pd.concat([model_df.drop(['F_SCORE'], axis=1), F_SCORE_enc_df], axis=1)"
   ]
  },
  {
   "cell_type": "markdown",
   "metadata": {},
   "source": [
    "## Train/Test Split"
   ]
  },
  {
   "cell_type": "code",
   "execution_count": 6,
   "metadata": {},
   "outputs": [],
   "source": [
    "# split model_df into train/test split\n",
    "# note: 75% of model_df will be used for training purposes and 25% of model_df will be used for testing purposes\n",
    "# use sklearn's train_test_split to split model_df\n",
    "prototype_one_train_df, prototype_one_test_df = train_test_split(model_df, test_size=0.25, random_state=seed)"
   ]
  },
  {
   "cell_type": "markdown",
   "metadata": {},
   "source": [
    "## Save Train/Test Dataset to CSV File"
   ]
  },
  {
   "cell_type": "code",
   "execution_count": 7,
   "metadata": {},
   "outputs": [],
   "source": [
    "# reset index for prototype_one_train_df and prototype_one_test_df\n",
    "prototype_one_train_df = prototype_one_train_df.reset_index(drop=True)\n",
    "prototype_one_test_df = prototype_one_test_df.reset_index(drop=True)\n",
    "\n",
    "# save prototype_one_train_df to csv file\n",
    "prototype_one_train_df.to_csv('prototype_one_train.csv', index=False)\n",
    "# save prototype_one_test_df to csv file\n",
    "prototype_one_test_df.to_csv('prototype_one_test.csv', index=False)"
   ]
  }
 ],
 "metadata": {
  "kernelspec": {
   "display_name": "Python 3",
   "language": "python",
   "name": "python3"
  },
  "language_info": {
   "codemirror_mode": {
    "name": "ipython",
    "version": 3
   },
   "file_extension": ".py",
   "mimetype": "text/x-python",
   "name": "python",
   "nbconvert_exporter": "python",
   "pygments_lexer": "ipython3",
   "version": "3.7.4"
  }
 },
 "nbformat": 4,
 "nbformat_minor": 2
}
